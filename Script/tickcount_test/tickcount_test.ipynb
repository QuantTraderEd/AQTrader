{
 "cells": [
  {
   "cell_type": "markdown",
   "metadata": {},
   "source": [
    "## Test tick count recording under different virtual computing power\n",
    "### 1.test1\n",
    "CPU: Intel(R) Xeon(R) E-2136 CPU @3.31GHz  \n",
    "RAM: 2.00GB  \n",
    "OS: Windows Server 2008 64bit  \n",
    "### 2.test2\n",
    "CPU: Intel(R) Xeon(R) E3-1230 V6 @3.50GHz  \n",
    "RAM: 4.00GB  \n",
    "OS: Windows Server 2016 64bit  "
   ]
  },
  {
   "cell_type": "code",
   "execution_count": 1,
   "metadata": {
    "collapsed": true
   },
   "outputs": [],
   "source": [
    "import bs4\n",
    "import pandas as pd"
   ]
  },
  {
   "cell_type": "code",
   "execution_count": 2,
   "metadata": {
    "collapsed": true
   },
   "outputs": [],
   "source": [
    "date_lst = ['20191011','20191014', '20191015', '20191016', '20191018', '20191021', '20191022', '20191023']\n",
    "df_test1_count = pd.DataFrame()\n",
    "df_test2_count = pd.DataFrame()"
   ]
  },
  {
   "cell_type": "code",
   "execution_count": 3,
   "metadata": {
    "collapsed": true
   },
   "outputs": [],
   "source": [
    "def find_count(html_text):\n",
    "    soup = bs4.BeautifulSoup(html_text)\n",
    "    for line in soup.find_all('pre'):\n",
    "        line_text = line.get_text()\n",
    "        if 'shortcd_x' in line_text:\n",
    "            line_lst = line_text.split('\\n')\n",
    "            text_lst = line_lst[0].split(' ')\n",
    "            count_lst = [int(item) for item in text_lst]\n",
    "            print count_lst\n",
    "    return count_lst"
   ]
  },
  {
   "cell_type": "code",
   "execution_count": 4,
   "metadata": {
    "collapsed": true
   },
   "outputs": [],
   "source": [
    "def make_df_tmp(str_date, count_lst):\n",
    "    data_lst = [str_date] + count_lst\n",
    "    df_tmp = pd.DataFrame(data_lst).transpose()\n",
    "    df_tmp.columns = ['date', 'big_count', 'mini_count']\n",
    "    return df_tmp"
   ]
  },
  {
   "cell_type": "code",
   "execution_count": 5,
   "metadata": {
    "collapsed": false
   },
   "outputs": [
    {
     "name": "stderr",
     "output_type": "stream",
     "text": [
      "C:\\Anaconda2\\lib\\site-packages\\bs4\\__init__.py:166: UserWarning: No parser was explicitly specified, so I'm using the best available HTML parser for this system (\"lxml\"). This usually isn't a problem, but if you run this code on another system, or in a different virtual environment, it may use a different parser and behave differently.\n",
      "\n",
      "To get rid of this warning, change this:\n",
      "\n",
      " BeautifulSoup([your markup])\n",
      "\n",
      "to this:\n",
      "\n",
      " BeautifulSoup([your markup], \"lxml\")\n",
      "\n",
      "  markup_type=markup_type))\n"
     ]
    },
    {
     "name": "stdout",
     "output_type": "stream",
     "text": [
      "[58137, 44322]\n",
      "[32903, 27008]\n",
      "[53261, 40361]\n",
      "[36950, 26616]\n",
      "[65450, 51065]\n",
      "[54852, 42370]\n",
      "[49128, 39404]\n",
      "[57853, 44837]\n"
     ]
    }
   ],
   "source": [
    "for str_date in date_lst:\n",
    "    html_text_file = \"miniarb_research_%s.html\" % str_date\n",
    "    path = './test1/miniarb_research/'\n",
    "\n",
    "    f = open(path + html_text_file, 'r')\n",
    "    html_text = f.read()\n",
    "    f.close()\n",
    "    \n",
    "    count_lst = find_count(html_text)\n",
    "    df_tmp = make_df_tmp(str_date, count_lst)\n",
    "    if len(df_test1_count) == 0:\n",
    "        df_test1_count = df_tmp.copy()\n",
    "    else:\n",
    "        df_test1_count = df_test1_count.append(df_tmp)"
   ]
  },
  {
   "cell_type": "code",
   "execution_count": 6,
   "metadata": {
    "collapsed": false
   },
   "outputs": [
    {
     "name": "stdout",
     "output_type": "stream",
     "text": [
      "[68327, 52653]\n",
      "[65429, 51307]\n",
      "[60846, 45695]\n",
      "[73436, 52450]\n",
      "[74093, 57553]\n",
      "[58547, 45093]\n",
      "[69399, 55512]\n",
      "[64863, 50088]\n"
     ]
    }
   ],
   "source": [
    "for str_date in date_lst:\n",
    "    html_text_file = \"miniarb_research_%s.html\" % str_date\n",
    "    path = './test2/miniarb_research/'\n",
    "\n",
    "    f = open(path + html_text_file, 'r')\n",
    "    html_text = f.read()\n",
    "    f.close()\n",
    "    \n",
    "    count_lst = find_count(html_text)\n",
    "    df_tmp = make_df_tmp(str_date, count_lst)\n",
    "    if len(df_test2_count) == 0:\n",
    "        df_test2_count = df_tmp.copy()\n",
    "    else:\n",
    "        df_test2_count = df_test2_count.append(df_tmp)"
   ]
  },
  {
   "cell_type": "code",
   "execution_count": 7,
   "metadata": {
    "collapsed": false
   },
   "outputs": [
    {
     "data": {
      "text/html": [
       "<div>\n",
       "<table border=\"1\" class=\"dataframe\">\n",
       "  <thead>\n",
       "    <tr style=\"text-align: right;\">\n",
       "      <th></th>\n",
       "      <th>date</th>\n",
       "      <th>big_count</th>\n",
       "      <th>mini_count</th>\n",
       "    </tr>\n",
       "  </thead>\n",
       "  <tbody>\n",
       "    <tr>\n",
       "      <th>0</th>\n",
       "      <td>20191011</td>\n",
       "      <td>58137</td>\n",
       "      <td>44322</td>\n",
       "    </tr>\n",
       "    <tr>\n",
       "      <th>0</th>\n",
       "      <td>20191014</td>\n",
       "      <td>32903</td>\n",
       "      <td>27008</td>\n",
       "    </tr>\n",
       "    <tr>\n",
       "      <th>0</th>\n",
       "      <td>20191015</td>\n",
       "      <td>53261</td>\n",
       "      <td>40361</td>\n",
       "    </tr>\n",
       "    <tr>\n",
       "      <th>0</th>\n",
       "      <td>20191016</td>\n",
       "      <td>36950</td>\n",
       "      <td>26616</td>\n",
       "    </tr>\n",
       "    <tr>\n",
       "      <th>0</th>\n",
       "      <td>20191018</td>\n",
       "      <td>65450</td>\n",
       "      <td>51065</td>\n",
       "    </tr>\n",
       "    <tr>\n",
       "      <th>0</th>\n",
       "      <td>20191021</td>\n",
       "      <td>54852</td>\n",
       "      <td>42370</td>\n",
       "    </tr>\n",
       "    <tr>\n",
       "      <th>0</th>\n",
       "      <td>20191022</td>\n",
       "      <td>49128</td>\n",
       "      <td>39404</td>\n",
       "    </tr>\n",
       "    <tr>\n",
       "      <th>0</th>\n",
       "      <td>20191023</td>\n",
       "      <td>57853</td>\n",
       "      <td>44837</td>\n",
       "    </tr>\n",
       "  </tbody>\n",
       "</table>\n",
       "</div>"
      ],
      "text/plain": [
       "       date big_count mini_count\n",
       "0  20191011     58137      44322\n",
       "0  20191014     32903      27008\n",
       "0  20191015     53261      40361\n",
       "0  20191016     36950      26616\n",
       "0  20191018     65450      51065\n",
       "0  20191021     54852      42370\n",
       "0  20191022     49128      39404\n",
       "0  20191023     57853      44837"
      ]
     },
     "execution_count": 7,
     "metadata": {},
     "output_type": "execute_result"
    }
   ],
   "source": [
    "df_test1_count"
   ]
  },
  {
   "cell_type": "code",
   "execution_count": 8,
   "metadata": {
    "collapsed": false
   },
   "outputs": [
    {
     "data": {
      "text/html": [
       "<div>\n",
       "<table border=\"1\" class=\"dataframe\">\n",
       "  <thead>\n",
       "    <tr style=\"text-align: right;\">\n",
       "      <th></th>\n",
       "      <th>date</th>\n",
       "      <th>big_count</th>\n",
       "      <th>mini_count</th>\n",
       "    </tr>\n",
       "  </thead>\n",
       "  <tbody>\n",
       "    <tr>\n",
       "      <th>0</th>\n",
       "      <td>20191011</td>\n",
       "      <td>68327</td>\n",
       "      <td>52653</td>\n",
       "    </tr>\n",
       "    <tr>\n",
       "      <th>0</th>\n",
       "      <td>20191014</td>\n",
       "      <td>65429</td>\n",
       "      <td>51307</td>\n",
       "    </tr>\n",
       "    <tr>\n",
       "      <th>0</th>\n",
       "      <td>20191015</td>\n",
       "      <td>60846</td>\n",
       "      <td>45695</td>\n",
       "    </tr>\n",
       "    <tr>\n",
       "      <th>0</th>\n",
       "      <td>20191016</td>\n",
       "      <td>73436</td>\n",
       "      <td>52450</td>\n",
       "    </tr>\n",
       "    <tr>\n",
       "      <th>0</th>\n",
       "      <td>20191018</td>\n",
       "      <td>74093</td>\n",
       "      <td>57553</td>\n",
       "    </tr>\n",
       "    <tr>\n",
       "      <th>0</th>\n",
       "      <td>20191021</td>\n",
       "      <td>58547</td>\n",
       "      <td>45093</td>\n",
       "    </tr>\n",
       "    <tr>\n",
       "      <th>0</th>\n",
       "      <td>20191022</td>\n",
       "      <td>69399</td>\n",
       "      <td>55512</td>\n",
       "    </tr>\n",
       "    <tr>\n",
       "      <th>0</th>\n",
       "      <td>20191023</td>\n",
       "      <td>64863</td>\n",
       "      <td>50088</td>\n",
       "    </tr>\n",
       "  </tbody>\n",
       "</table>\n",
       "</div>"
      ],
      "text/plain": [
       "       date big_count mini_count\n",
       "0  20191011     68327      52653\n",
       "0  20191014     65429      51307\n",
       "0  20191015     60846      45695\n",
       "0  20191016     73436      52450\n",
       "0  20191018     74093      57553\n",
       "0  20191021     58547      45093\n",
       "0  20191022     69399      55512\n",
       "0  20191023     64863      50088"
      ]
     },
     "execution_count": 8,
     "metadata": {},
     "output_type": "execute_result"
    }
   ],
   "source": [
    "df_test2_count"
   ]
  }
 ],
 "metadata": {
  "kernelspec": {
   "display_name": "Python 2",
   "language": "python",
   "name": "python2"
  },
  "language_info": {
   "codemirror_mode": {
    "name": "ipython",
    "version": 2
   },
   "file_extension": ".py",
   "mimetype": "text/x-python",
   "name": "python",
   "nbconvert_exporter": "python",
   "pygments_lexer": "ipython2",
   "version": "2.7.11"
  }
 },
 "nbformat": 4,
 "nbformat_minor": 0
}
